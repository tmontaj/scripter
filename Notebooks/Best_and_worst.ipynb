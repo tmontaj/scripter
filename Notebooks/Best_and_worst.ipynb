{
  "nbformat": 4,
  "nbformat_minor": 0,
  "metadata": {
    "colab": {
      "name": "Best and worst.ipynb",
      "provenance": [],
      "collapsed_sections": [],
      "authorship_tag": "ABX9TyMnEQpyx9R89LgODlwQTw5D",
      "include_colab_link": true
    },
    "kernelspec": {
      "name": "python3",
      "display_name": "Python 3"
    }
  },
  "cells": [
    {
      "cell_type": "markdown",
      "metadata": {
        "id": "view-in-github",
        "colab_type": "text"
      },
      "source": [
        "<a href=\"https://colab.research.google.com/github/tmontaj/scripter/blob/main/Notebooks/Best_and_worst.ipynb\" target=\"_parent\"><img src=\"https://colab.research.google.com/assets/colab-badge.svg\" alt=\"Open In Colab\"/></a>"
      ]
    },
    {
      "cell_type": "markdown",
      "metadata": {
        "id": "DliFCSsrH8YT"
      },
      "source": [
        "**Per batch fnc**\n",
        "\n",
        "inputs: <br>\n",
        "x, y, model, pre model, past model, npick\n",
        "\n",
        "output: <br>\n",
        "best npick and worest npick in a batch"
      ]
    },
    {
      "cell_type": "markdown",
      "metadata": {
        "id": "USBHDQSzI0E4"
      },
      "source": [
        "**Per set fnc**\n",
        "\n",
        "inputs:\n",
        "dataset object, model, pre model, past model, npick\n",
        "\n",
        "output:\n",
        "best npick and worest npick in a batch"
      ]
    },
    {
      "cell_type": "code",
      "metadata": {
        "colab": {
          "base_uri": "https://localhost:8080/"
        },
        "id": "ZzxBO2AmIzue",
        "outputId": "907d5b0f-1d2c-4276-f293-66b056374bd1"
      },
      "source": [
        "inputs = [1,2,3]\n",
        "logits = ['a', 'b', 'c']\n",
        "loss   = [0.1, 0, 0.01]\n",
        "\n",
        "zipped = zip(loss, logits, inputs)\n",
        "sorted(zipped)"
      ],
      "execution_count": null,
      "outputs": [
        {
          "output_type": "execute_result",
          "data": {
            "text/plain": [
              "[(0, 'b', 2), (0.01, 'c', 3), (0.1, 'a', 1)]"
            ]
          },
          "metadata": {
            "tags": []
          },
          "execution_count": 1
        }
      ]
    },
    {
      "cell_type": "code",
      "metadata": {
        "colab": {
          "base_uri": "https://localhost:8080/"
        },
        "id": "TrVqqGaRH7yj",
        "outputId": "c83d7f51-a7de-4498-c59e-c60a93aef0cd"
      },
      "source": [
        "zipped"
      ],
      "execution_count": null,
      "outputs": [
        {
          "output_type": "execute_result",
          "data": {
            "text/plain": [
              "<zip at 0x7f476063bfc8>"
            ]
          },
          "metadata": {
            "tags": []
          },
          "execution_count": 2
        }
      ]
    },
    {
      "cell_type": "code",
      "metadata": {
        "id": "VtNbbMAGH3ZR"
      },
      "source": [
        "def loss(x,y):\n",
        "  return np.array([6,4])\n",
        "\n",
        "def model(x):\n",
        "  return x"
      ],
      "execution_count": null,
      "outputs": []
    },
    {
      "cell_type": "code",
      "metadata": {
        "id": "8zKPGcIy5YSy"
      },
      "source": [
        "def best_and_worest_per_batch(x, y, model, npick, loss, pre_model=None, post_model=None):\n",
        "  if pre_model:\n",
        "    x = pre_model(x)\n",
        "  \n",
        "  logits = model(x)\n",
        "  loss_  = loss(y, logits)\n",
        "\n",
        "  if post_model:\n",
        "    logits = post_model(logits)\n",
        "  print(\"loss\",loss_.shape)\n",
        "  print(\"logits\",logits.shape)\n",
        "  print(\"y\",y.shape)\n",
        "  print(\"x\",x.shape)\n",
        "  loss_axis = np.argsort(loss_)\n",
        "\n",
        "  all = zip(loss_[loss_axis], x[loss_axis], logits[loss_axis], y[loss_axis])\n",
        "\n",
        "  n = npick if npick <= x.shape[0] else x.shape[0] \n",
        "  \n",
        "  best   = loss_axis[:n]\n",
        "  worest = np.flip(loss_axis[-n:])\n",
        "\n",
        "  best   = (loss_[best], x[best], logits[best], y[best])\n",
        "  worest = (loss_[worest], x[worest], logits[worest], y[worest])\n",
        "\n",
        "  return best, worest"
      ],
      "execution_count": null,
      "outputs": []
    },
    {
      "cell_type": "code",
      "metadata": {
        "colab": {
          "base_uri": "https://localhost:8080/"
        },
        "id": "kDhj3UBVFwRQ",
        "outputId": "d05ec38c-f8b5-48b9-95ec-4594b309da5c"
      },
      "source": [
        "import numpy as np\n",
        "\n",
        "\n",
        "word1 = np.array([9,1,2,25,12,2,4,25,6,7])\n",
        "word2 = np.array([0.9,0.3,.2,.25,.12,.2,.4,.25,.6,.8])\n",
        "\n",
        "x = np.array([word2, word1])\n",
        "y = np.array([word1, word2])\n",
        "\n",
        "\n",
        "xx = best_and_worest_per_batch(x=x, y=y, model = model, npick = 1, loss = loss)\n",
        "\n",
        "xx"
      ],
      "execution_count": null,
      "outputs": [
        {
          "output_type": "stream",
          "text": [
            "loss (2,)\n",
            "logits (2, 10)\n",
            "y (2, 10)\n",
            "x (2, 10)\n"
          ],
          "name": "stdout"
        },
        {
          "output_type": "execute_result",
          "data": {
            "text/plain": [
              "((array([4]),\n",
              "  array([[ 9.,  1.,  2., 25., 12.,  2.,  4., 25.,  6.,  7.]]),\n",
              "  array([[ 9.,  1.,  2., 25., 12.,  2.,  4., 25.,  6.,  7.]]),\n",
              "  array([[0.9 , 0.3 , 0.2 , 0.25, 0.12, 0.2 , 0.4 , 0.25, 0.6 , 0.8 ]])),\n",
              " (array([6]),\n",
              "  array([[0.9 , 0.3 , 0.2 , 0.25, 0.12, 0.2 , 0.4 , 0.25, 0.6 , 0.8 ]]),\n",
              "  array([[0.9 , 0.3 , 0.2 , 0.25, 0.12, 0.2 , 0.4 , 0.25, 0.6 , 0.8 ]]),\n",
              "  array([[ 9.,  1.,  2., 25., 12.,  2.,  4., 25.,  6.,  7.]])))"
            ]
          },
          "metadata": {
            "tags": []
          },
          "execution_count": 5
        }
      ]
    },
    {
      "cell_type": "code",
      "metadata": {
        "id": "ZdnBjB9sFwsv"
      },
      "source": [
        "def mutual_best_and_worest(best_overall, worest_overall, best, worest, n):\n",
        "  best_mutual = []\n",
        "  worest_mutual = []\n",
        "\n",
        "  for i in range(n):\n",
        "    if best_overall[i][0] > best[i][0]:\n",
        "      best_mutual.append(best_overall[i])\n",
        "    else:\n",
        "      best_mutual.append(best[i])\n",
        "    \n",
        "    if worest_overall[i][0] < worest[i][0]:\n",
        "      worest_mutual.append(worest_overall[i])\n",
        "    else:\n",
        "      worest_mutual.append(worest[-i])\n",
        "\n",
        "  return (best_mutual, worest_mutual)"
      ],
      "execution_count": null,
      "outputs": []
    },
    {
      "cell_type": "code",
      "metadata": {
        "id": "pBaLdQFpNocK"
      },
      "source": [
        "def best_and_worest_per_repleca(dataset, model, npick, global_npick, loss, pre_model=None, post_model=None):\n",
        "  \n",
        "  best_overall=None\n",
        "  worest_overall=None\n",
        "\n",
        "  for x,y in dataset:\n",
        "    n = global_npick if global_npick <= x.shape[0] else x.shape[0]\n",
        "    best, worest = best_and_worest_per_batch(x, y, model, npick, loss, pre_model, post_model)\n",
        "\n",
        "    # best_overall, worest_overall = mutual_best_and_worest(best_overall, \n",
        "    #                                                       worest_overall, best, \n",
        "    #                                                       worest, n) if best_overall else (best, worest)\n",
        "\n",
        "    if best_overall:\n",
        "      best_overall, worest_overall = mutual_best_and_worest(best_overall, \n",
        "                                                          worest_overall, best, \n",
        "                                                          worest, n)\n",
        "    else:\n",
        "      best_overall, worest_overall = (best, worest)\n",
        "\n",
        "  return best_overall, worest_overall"
      ],
      "execution_count": null,
      "outputs": []
    },
    {
      "cell_type": "code",
      "metadata": {
        "id": "3pNB0LLA5Vow"
      },
      "source": [
        ""
      ],
      "execution_count": null,
      "outputs": []
    },
    {
      "cell_type": "code",
      "metadata": {
        "id": "ofulhcYwO1bH"
      },
      "source": [
        ""
      ],
      "execution_count": null,
      "outputs": []
    }
  ]
}