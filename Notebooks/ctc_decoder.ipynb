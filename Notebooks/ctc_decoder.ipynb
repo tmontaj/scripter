{
  "nbformat": 4,
  "nbformat_minor": 0,
  "metadata": {
    "colab": {
      "name": "ctc_decoder.ipynb",
      "provenance": [],
      "collapsed_sections": [],
      "authorship_tag": "ABX9TyMj5e+LuNLWRafI6VqG0Gf7",
      "include_colab_link": true
    },
    "kernelspec": {
      "name": "python3",
      "display_name": "Python 3"
    }
  },
  "cells": [
    {
      "cell_type": "markdown",
      "metadata": {
        "id": "view-in-github",
        "colab_type": "text"
      },
      "source": [
        "<a href=\"https://colab.research.google.com/github/tmontaj/scripter/blob/main/Notebooks/ctc_decoder.ipynb\" target=\"_parent\"><img src=\"https://colab.research.google.com/assets/colab-badge.svg\" alt=\"Open In Colab\"/></a>"
      ]
    },
    {
      "cell_type": "code",
      "metadata": {
        "id": "NjKY_W6tjzp9"
      },
      "source": [
        "import tensorflow as tf\n",
        "import numpy as np"
      ],
      "execution_count": null,
      "outputs": []
    },
    {
      "cell_type": "code",
      "metadata": {
        "id": "djuHzIqejuJL"
      },
      "source": [
        "# inputs of shape (batch, time_stips, features)\n",
        "def ctc_decoder(inputs, sequence_length=None, beam_width=10, top_paths=1):\n",
        "\n",
        "  #if not padded\n",
        "  if not sequence_length:\n",
        "    sequence_length = [inputs.shape[1]]\n",
        "    ishape = inputs.shape\n",
        "    inputs = tf.reshape(inputs, (ishape[1], ishape[0], ishape[2]))\n",
        "  else:\n",
        "    inputs = tf.stack(inputs.numpy().tolist(), axis=1)\n",
        "\n",
        "  print(inputs)\n",
        "  decode = tf.nn.ctc_beam_search_decoder(inputs=inputs, sequence_length=sequence_length, beam_width=beam_width, top_paths=top_paths)\n",
        "\n",
        "  return decode"
      ],
      "execution_count": null,
      "outputs": []
    },
    {
      "cell_type": "code",
      "metadata": {
        "id": "7SILHtS7mCr8"
      },
      "source": [
        "x=np.array([\n",
        "            [\n",
        "            [3,5,65,0],\n",
        "            [3,5,65,0],\n",
        "            [3,5,65,0],\n",
        "            [3,5,65,0],\n",
        "            ],\n",
        "            [\n",
        "            [3,5,50,0],\n",
        "            [3,5,0,100],\n",
        "            [3,500,66,5],\n",
        "            [3,5,64,2],\n",
        "            ]\n",
        " ], dtype=np.float32)"
      ],
      "execution_count": null,
      "outputs": []
    },
    {
      "cell_type": "code",
      "metadata": {
        "colab": {
          "base_uri": "https://localhost:8080/"
        },
        "id": "u5CmKF3QT19j",
        "outputId": "c7172c73-3d94-4fa7-a30c-38acd0f13369"
      },
      "source": [
        "  x.shape"
      ],
      "execution_count": null,
      "outputs": [
        {
          "output_type": "execute_result",
          "data": {
            "text/plain": [
              "(2, 4, 4)"
            ]
          },
          "metadata": {
            "tags": []
          },
          "execution_count": 13
        }
      ]
    },
    {
      "cell_type": "code",
      "metadata": {
        "colab": {
          "base_uri": "https://localhost:8080/"
        },
        "id": "X1fVcsLtYzlC",
        "outputId": "76bae0f0-ad3e-4a9d-c5c1-915b45b815ea"
      },
      "source": [
        "tf.stack(x.tolist(), axis=1)"
      ],
      "execution_count": null,
      "outputs": [
        {
          "output_type": "execute_result",
          "data": {
            "text/plain": [
              "<tf.Tensor: shape=(4, 2, 4), dtype=float32, numpy=\n",
              "array([[[  3.,   5.,  65.,   0.],\n",
              "        [  3.,   5.,  50.,   0.]],\n",
              "\n",
              "       [[  3.,   5.,  65.,   0.],\n",
              "        [  3.,   5.,   0., 100.]],\n",
              "\n",
              "       [[  3.,   5.,  65.,   0.],\n",
              "        [  3., 500.,  66.,   5.]],\n",
              "\n",
              "       [[  3.,   5.,  65.,   0.],\n",
              "        [  3.,   5.,  64.,   2.]]], dtype=float32)>"
            ]
          },
          "metadata": {
            "tags": []
          },
          "execution_count": 14
        }
      ]
    },
    {
      "cell_type": "code",
      "metadata": {
        "colab": {
          "base_uri": "https://localhost:8080/"
        },
        "id": "bi5CcFUBmdsl",
        "outputId": "e7c9de42-241d-40e7-c506-5b23480772d2"
      },
      "source": [
        "ishape = x.shape\n",
        "tf.reshape(x, (ishape[1], ishape[0], ishape[2]))"
      ],
      "execution_count": null,
      "outputs": [
        {
          "output_type": "execute_result",
          "data": {
            "text/plain": [
              "<tf.Tensor: shape=(4, 2, 4), dtype=float32, numpy=\n",
              "array([[[  3.,   5.,  65.,   0.],\n",
              "        [  3.,   5.,  65.,   0.]],\n",
              "\n",
              "       [[  3.,   5.,  65.,   0.],\n",
              "        [  3.,   5.,  65.,   0.]],\n",
              "\n",
              "       [[  3.,   5.,  50.,   0.],\n",
              "        [  3.,   5.,   0., 100.]],\n",
              "\n",
              "       [[  3., 500.,  66.,   5.],\n",
              "        [  3.,   5.,  64.,   2.]]], dtype=float32)>"
            ]
          },
          "metadata": {
            "tags": []
          },
          "execution_count": 15
        }
      ]
    },
    {
      "cell_type": "code",
      "metadata": {
        "id": "JVdlVpNsmgMB",
        "colab": {
          "base_uri": "https://localhost:8080/"
        },
        "outputId": "4b5d95da-e7d9-439e-bd15-bce67d1725ad"
      },
      "source": [
        "y = ctc_decoder(x,sequence_length=[4, 4] ,beam_width=1)"
      ],
      "execution_count": null,
      "outputs": [
        {
          "output_type": "stream",
          "text": [
            "tf.Tensor(\n",
            "[[[  3.   5.  65.   0.]\n",
            "  [  3.   5.  50.   0.]]\n",
            "\n",
            " [[  3.   5.  65.   0.]\n",
            "  [  3.   5.   0. 100.]]\n",
            "\n",
            " [[  3.   5.  65.   0.]\n",
            "  [  3. 500.  66.   5.]]\n",
            "\n",
            " [[  3.   5.  65.   0.]\n",
            "  [  3.   5.  64.   2.]]], shape=(4, 2, 4), dtype=float32)\n"
          ],
          "name": "stdout"
        }
      ]
    },
    {
      "cell_type": "code",
      "metadata": {
        "colab": {
          "base_uri": "https://localhost:8080/"
        },
        "id": "7puMUJzpsuNY",
        "outputId": "847d2572-8f53-482a-bae9-6db3cf0c7d3c"
      },
      "source": [
        "y[0]"
      ],
      "execution_count": null,
      "outputs": [
        {
          "output_type": "execute_result",
          "data": {
            "text/plain": [
              "[<tensorflow.python.framework.sparse_tensor.SparseTensor at 0x7f07e416d1d0>]"
            ]
          },
          "metadata": {
            "tags": []
          },
          "execution_count": 17
        }
      ]
    },
    {
      "cell_type": "code",
      "metadata": {
        "colab": {
          "base_uri": "https://localhost:8080/"
        },
        "id": "5-Wy2ganmxug",
        "outputId": "9b8e622b-fe53-4f4d-b3c3-4d21f9e61e2a"
      },
      "source": [
        "tf.sparse.to_dense(y[0][0])"
      ],
      "execution_count": null,
      "outputs": [
        {
          "output_type": "execute_result",
          "data": {
            "text/plain": [
              "<tf.Tensor: shape=(2, 3), dtype=int64, numpy=\n",
              "array([[2, 0, 0],\n",
              "       [2, 1, 2]])>"
            ]
          },
          "metadata": {
            "tags": []
          },
          "execution_count": 18
        }
      ]
    },
    {
      "cell_type": "code",
      "metadata": {
        "id": "FIHwMJR2nQbf",
        "colab": {
          "base_uri": "https://localhost:8080/"
        },
        "outputId": "7445e16f-627f-4a6a-cff7-b2cbc38d9489"
      },
      "source": [
        "y "
      ],
      "execution_count": null,
      "outputs": [
        {
          "output_type": "execute_result",
          "data": {
            "text/plain": [
              "([<tensorflow.python.framework.sparse_tensor.SparseTensor at 0x7f07e416d1d0>],\n",
              " <tf.Tensor: shape=(2, 1), dtype=float32, numpy=\n",
              " array([[5.9000906e-29],\n",
              "        [0.0000000e+00]], dtype=float32)>)"
            ]
          },
          "metadata": {
            "tags": []
          },
          "execution_count": 19
        }
      ]
    },
    {
      "cell_type": "code",
      "metadata": {
        "id": "sWQPNeA4tvUR"
      },
      "source": [
        ""
      ],
      "execution_count": null,
      "outputs": []
    }
  ]
}