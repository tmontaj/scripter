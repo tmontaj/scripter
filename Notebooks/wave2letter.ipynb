{
  "nbformat": 4,
  "nbformat_minor": 0,
  "metadata": {
    "colab": {
      "name": "wave2letter.ipynb",
      "provenance": [],
      "collapsed_sections": [],
      "authorship_tag": "ABX9TyNi7yRLBt1aeqIIX4okd7E6",
      "include_colab_link": true
    },
    "kernelspec": {
      "name": "python3",
      "display_name": "Python 3"
    }
  },
  "cells": [
    {
      "cell_type": "markdown",
      "metadata": {
        "id": "view-in-github",
        "colab_type": "text"
      },
      "source": [
        "<a href=\"https://colab.research.google.com/github/tmontaj/scripter/blob/main/Notebooks/wave2letter.ipynb\" target=\"_parent\"><img src=\"https://colab.research.google.com/assets/colab-badge.svg\" alt=\"Open In Colab\"/></a>"
      ]
    },
    {
      "cell_type": "markdown",
      "metadata": {
        "id": "ou2zFmJNvqfp"
      },
      "source": [
        "# This module implements wav2letter paper \n",
        "\n",
        "Thanks to Chadrick for his [blog](https://chadrick-kwag.net/tf-keras-rnn-ctc-example/) It helped a lot clearong the meaning of the TF documentation "
      ]
    },
    {
      "cell_type": "code",
      "metadata": {
        "id": "aOOqydlrsD4F",
        "colab": {
          "base_uri": "https://localhost:8080/"
        },
        "outputId": "6ac43b6a-7a6a-4ab0-ad6a-7dcb05472bc3"
      },
      "source": [
        "import tensorflow as tf\n",
        "import numpy as np\n",
        "!pip install wandb\n",
        "import wandb\n",
        "from wandb.keras import WandbCallback\n",
        "import tensorflow.keras.callbacks\n"
      ],
      "execution_count": 15,
      "outputs": [
        {
          "output_type": "stream",
          "text": [
            "Requirement already satisfied: wandb in /usr/local/lib/python3.6/dist-packages (0.10.17)\n",
            "Requirement already satisfied: Click>=7.0 in /usr/local/lib/python3.6/dist-packages (from wandb) (7.1.2)\n",
            "Requirement already satisfied: python-dateutil>=2.6.1 in /usr/local/lib/python3.6/dist-packages (from wandb) (2.8.1)\n",
            "Requirement already satisfied: six>=1.13.0 in /usr/local/lib/python3.6/dist-packages (from wandb) (1.15.0)\n",
            "Requirement already satisfied: psutil>=5.0.0 in /usr/local/lib/python3.6/dist-packages (from wandb) (5.4.8)\n",
            "Requirement already satisfied: promise<3,>=2.0 in /usr/local/lib/python3.6/dist-packages (from wandb) (2.3)\n",
            "Requirement already satisfied: sentry-sdk>=0.4.0 in /usr/local/lib/python3.6/dist-packages (from wandb) (0.19.5)\n",
            "Requirement already satisfied: subprocess32>=3.5.3 in /usr/local/lib/python3.6/dist-packages (from wandb) (3.5.4)\n",
            "Requirement already satisfied: configparser>=3.8.1 in /usr/local/lib/python3.6/dist-packages (from wandb) (5.0.1)\n",
            "Requirement already satisfied: GitPython>=1.0.0 in /usr/local/lib/python3.6/dist-packages (from wandb) (3.1.12)\n",
            "Requirement already satisfied: pathtools in /usr/local/lib/python3.6/dist-packages (from wandb) (0.1.2)\n",
            "Requirement already satisfied: requests<3,>=2.0.0 in /usr/local/lib/python3.6/dist-packages (from wandb) (2.23.0)\n",
            "Requirement already satisfied: docker-pycreds>=0.4.0 in /usr/local/lib/python3.6/dist-packages (from wandb) (0.4.0)\n",
            "Requirement already satisfied: PyYAML in /usr/local/lib/python3.6/dist-packages (from wandb) (3.13)\n",
            "Requirement already satisfied: shortuuid>=0.5.0 in /usr/local/lib/python3.6/dist-packages (from wandb) (1.0.1)\n",
            "Requirement already satisfied: protobuf>=3.12.0 in /usr/local/lib/python3.6/dist-packages (from wandb) (3.12.4)\n",
            "Requirement already satisfied: urllib3>=1.10.0 in /usr/local/lib/python3.6/dist-packages (from sentry-sdk>=0.4.0->wandb) (1.24.3)\n",
            "Requirement already satisfied: certifi in /usr/local/lib/python3.6/dist-packages (from sentry-sdk>=0.4.0->wandb) (2020.12.5)\n",
            "Requirement already satisfied: gitdb<5,>=4.0.1 in /usr/local/lib/python3.6/dist-packages (from GitPython>=1.0.0->wandb) (4.0.5)\n",
            "Requirement already satisfied: chardet<4,>=3.0.2 in /usr/local/lib/python3.6/dist-packages (from requests<3,>=2.0.0->wandb) (3.0.4)\n",
            "Requirement already satisfied: idna<3,>=2.5 in /usr/local/lib/python3.6/dist-packages (from requests<3,>=2.0.0->wandb) (2.10)\n",
            "Requirement already satisfied: setuptools in /usr/local/lib/python3.6/dist-packages (from protobuf>=3.12.0->wandb) (53.0.0)\n",
            "Requirement already satisfied: smmap<4,>=3.0.1 in /usr/local/lib/python3.6/dist-packages (from gitdb<5,>=4.0.1->GitPython>=1.0.0->wandb) (3.0.5)\n"
          ],
          "name": "stdout"
        }
      ]
    },
    {
      "cell_type": "code",
      "metadata": {
        "id": "3e9e8WcUBVs5"
      },
      "source": [
        "class FirstBlock(tf.keras.layers.Layer):\n",
        "  '''\n",
        "  First layer of wav2letter for melspectrogem (not raw audio)\n",
        "  '''\n",
        "  def __init__(self, filters=250, kernel_size=48, strides=2, **kwargs):\n",
        "    '''\n",
        "    First layer of wav2letter for melspectrogem (not raw audio)\n",
        "    Arguments:\n",
        "    filters -- number of filters in first conv layer(Default: 250)\n",
        "    kernel_size -- kernal size in first conv layer(Default: 48)\n",
        "    strides -- strides in first conv layer(Default: 2)\n",
        "\n",
        "    **For more details see tf.keras.layers.Conv1D Docs**\n",
        "    '''\n",
        "    super().__init__(**kwargs)\n",
        "    \n",
        "    self.conv = tf.keras.layers.Conv1D(filters=filters, kernel_size=kernel_size,\n",
        "                                       strides=strides, padding='same',\n",
        "                                       name=\"first\")\n",
        "    \n",
        "    self.batch_norm = tf.keras.layers.BatchNormalization()\n",
        "    self.relu = tf.keras.layers.ReLU()\n",
        "\n",
        "  def call(self, input_):\n",
        "    '''\n",
        "    First layer of wav2letter architecture\n",
        "    Arguments:\n",
        "    input_ -- input tensor\n",
        "\n",
        "    Returns:\n",
        "    out -- output tensor\n",
        "    '''\n",
        "    conv = self.conv(input_)\n",
        "    batch_norm = self.batch_norm(conv)\n",
        "    relu = self.relu(batch_norm)\n",
        "    return relu"
      ],
      "execution_count": null,
      "outputs": []
    },
    {
      "cell_type": "code",
      "metadata": {
        "id": "_Z5D2Y9uE-CT"
      },
      "source": [
        "class MidBlock(tf.keras.layers.Layer):\n",
        "  '''\n",
        "  Mid layers of wav2letter for melspectrogem (not raw audio)\n",
        "  '''\n",
        "  def __init__(self, name, filters=250, kernel_size=7, **kwargs):\n",
        "    '''\n",
        "    Mid layers of wav2letter\n",
        "    Arguments:\n",
        "    filters -- number of filters in mid conv layer(Default: 250)\n",
        "    kernel_size -- kernal size in mid conv layer(Default: 48)\n",
        "    name -- layer name\n",
        "\n",
        "    **For more details see tf.keras.layers.Conv1D Docs**\n",
        "    '''\n",
        "    super().__init__(**kwargs)\n",
        "    \n",
        "    self.conv = tf.keras.layers.Conv1D(filters=filters, kernel_size=kernel_size,\n",
        "                                       padding='same', name=name)\n",
        "    \n",
        "    self.batch_norm = tf.keras.layers.BatchNormalization()\n",
        "    self.relu = tf.keras.layers.ReLU()\n",
        "\n",
        "  def call(self, input_):\n",
        "    '''\n",
        "    Mid layer of wav2letter architecture\n",
        "    Arguments:\n",
        "    input_ -- input tensor\n",
        "\n",
        "    Returns:\n",
        "    out -- output tensor\n",
        "    '''\n",
        "    conv = self.conv(input_)\n",
        "    batch_norm = self.batch_norm(conv)\n",
        "    relu = self.relu(batch_norm)\n",
        "    return relu"
      ],
      "execution_count": null,
      "outputs": []
    },
    {
      "cell_type": "code",
      "metadata": {
        "id": "ZY3jtxTNFWyi"
      },
      "source": [
        "class LastBlock(tf.keras.layers.Layer):\n",
        "  def __init__(self, output_size=40, **kwargs):\n",
        "    '''\n",
        "    Last layers of wav2letter\n",
        "    Arguments:\n",
        "    output_size -- number or char in language (Default: 40)\n",
        "    '''\n",
        "    super().__init__(**kwargs)\n",
        "    self.conv1 = tf.keras.layers.Conv1D(filters=2000, kernel_size=32,\n",
        "                                        padding='same', name=\"last_mid\")\n",
        "    \n",
        "    self.conv2 = tf.keras.layers.Conv1D(filters=2000, kernel_size=1,\n",
        "                                        padding='same', name=\"last1\")\n",
        "    \n",
        "    self.conv3 = tf.keras.layers.Conv1D(filters=output_size, kernel_size=1,\n",
        "                                        padding='same', name=\"last2\")\n",
        "    \n",
        "    self.batch_norm = tf.keras.layers.BatchNormalization()\n",
        "    self.batch_norm2 = tf.keras.layers.BatchNormalization()\n",
        "    self.batch_norm3 = tf.keras.layers.BatchNormalization()\n",
        "    \n",
        "    self.relu = tf.keras.layers.ReLU()\n",
        "\n",
        "  def call(self, input_):\n",
        "    '''\n",
        "    Last layer of wav2letter architecture\n",
        "    Arguments:\n",
        "    input_ -- input tensor\n",
        "\n",
        "    Returns:\n",
        "    out -- output tensor\n",
        "    '''\n",
        "    conv1 = self.conv1(input_)\n",
        "    batch_norm1 = self.batch_norm(conv1)\n",
        "    relu1 = self.relu(batch_norm1)\n",
        "    \n",
        "    conv2 = self.conv2(relu1)\n",
        "    batch_norm2 = self.batch_norm2(conv2)\n",
        "    relu2 = self.relu(batch_norm2)\n",
        "\n",
        "    conv3 = self.conv3(relu2)\n",
        "    batch_norm3 = self.batch_norm3(conv3)\n",
        "    relu3 = self.relu(batch_norm3)\n",
        "\n",
        "    return relu3"
      ],
      "execution_count": null,
      "outputs": []
    },
    {
      "cell_type": "code",
      "metadata": {
        "id": "imxqz_6lG9ZC"
      },
      "source": [
        "class Wav2Let(tf.keras.Model):\n",
        "  '''wav2letter model'''\n",
        "  def __init__(self, filters=250, kernel_size=48, strides=2, depth=7,\n",
        "               mid_filters=250, mid_kernel_size=7, output_size=40, **kwargs):\n",
        "    '''\n",
        "    wav2letter model\n",
        "    Arguments:\n",
        "    filters -- number of filters in first conv layer(Default: 250)\n",
        "    kernel_size -- kernal size in first conv layer(Default: 48)\n",
        "    strides -- strides in first conv layer(Default: 2)\n",
        "    mid_filters -- number of filters in mid conv layer(Default: 250)\n",
        "    mid_kernel_size -- kernal size in mid conv layer(Default: 48)\n",
        "    name -- layer name\n",
        "    depth -- number od mid layers to use (Default: 7)\n",
        "    output_size -- number or char in language (Default: 40)\n",
        "\n",
        "    **For more details see tf.keras.layers.Conv1D Docs**\n",
        "    '''\n",
        "    super().__init__(**kwargs)\n",
        "    self.first_block = FirstBlock()\n",
        "    \n",
        "    self.mid_block = []\n",
        "    for i in range(depth):\n",
        "      self.mid_block.append(\n",
        "          MidBlock(name = \"mid%d\"%(i))\n",
        "      )\n",
        "\n",
        "    self.last_block = LastBlock()\n",
        "        \n",
        "  def call(self, input_):\n",
        "    '''\n",
        "    wav2letter architecture\n",
        "    Arguments:\n",
        "    input_ -- input tensor\n",
        "\n",
        "    Returns:\n",
        "    out -- output tensor\n",
        "    '''\n",
        "    block_out = self.first_block(input_)\n",
        "\n",
        "    for layer in self.mid_block:\n",
        "      block_out = layer(block_out)\n",
        "\n",
        "    last_block = self.last_block(block_out)\n",
        "\n",
        "    return last_block \n"
      ],
      "execution_count": null,
      "outputs": []
    },
    {
      "cell_type": "code",
      "metadata": {
        "colab": {
          "base_uri": "https://localhost:8080/"
        },
        "id": "of-x7WV3ReyS",
        "outputId": "a02e9619-c569-4530-9fa8-21ac4aa980b7"
      },
      "source": [
        "x = np.ones((1,700,200))\n",
        "x"
      ],
      "execution_count": null,
      "outputs": [
        {
          "output_type": "execute_result",
          "data": {
            "text/plain": [
              "array([[[1., 1., 1., ..., 1., 1., 1.],\n",
              "        [1., 1., 1., ..., 1., 1., 1.],\n",
              "        [1., 1., 1., ..., 1., 1., 1.],\n",
              "        ...,\n",
              "        [1., 1., 1., ..., 1., 1., 1.],\n",
              "        [1., 1., 1., ..., 1., 1., 1.],\n",
              "        [1., 1., 1., ..., 1., 1., 1.]]])"
            ]
          },
          "metadata": {
            "tags": []
          },
          "execution_count": 6
        }
      ]
    },
    {
      "cell_type": "code",
      "metadata": {
        "colab": {
          "base_uri": "https://localhost:8080/"
        },
        "id": "qTGQ8v2dRnQb",
        "outputId": "1ab5ca9c-02ad-4fe6-bb53-153db61fd536"
      },
      "source": [
        "model = Wav2Let()\n",
        "y = model(x)\n",
        "y"
      ],
      "execution_count": null,
      "outputs": [
        {
          "output_type": "execute_result",
          "data": {
            "text/plain": [
              "<tf.Tensor: shape=(1, 350, 40), dtype=float32, numpy=\n",
              "array([[[0.00181469, 0.00483916, 0.        , ..., 0.        ,\n",
              "         0.        , 0.00222994],\n",
              "        [0.00402963, 0.00410732, 0.        , ..., 0.        ,\n",
              "         0.        , 0.00143265],\n",
              "        [0.        , 0.00272821, 0.0018889 , ..., 0.        ,\n",
              "         0.        , 0.00227772],\n",
              "        ...,\n",
              "        [0.02604784, 0.0221705 , 0.0040882 , ..., 0.00209263,\n",
              "         0.00905962, 0.        ],\n",
              "        [0.02925947, 0.0189012 , 0.00074666, ..., 0.00673655,\n",
              "         0.00759327, 0.        ],\n",
              "        [0.02432358, 0.01630323, 0.        , ..., 0.01044387,\n",
              "         0.00522837, 0.        ]]], dtype=float32)>"
            ]
          },
          "metadata": {
            "tags": []
          },
          "execution_count": 7
        }
      ]
    },
    {
      "cell_type": "code",
      "metadata": {
        "id": "e7yzMreTRswD"
      },
      "source": [
        "# model.last_block.weights\n",
        "def ctc_loss():\n",
        "  def ctc_loss_(y_true, y_pred):\n",
        "\n",
        "    label_length = y_true[0]\n",
        "    true_labels  = y_true[0]\n",
        "\n",
        "    batch = tf.shape(y_pred)[0] # shape=(batch, time, char)\n",
        "    char = tf.shape(y_pred)[2] # shape=(batch, time, char)\n",
        "    logit_length = tf.repeat([char], batch)\n",
        "\n",
        "    return tf.nn.ctc_loss(labels=true_labels, logits=y_pred,label_length=label_length,\n",
        "                          logit_length=logit_length)\n",
        "  return ctc_loss_"
      ],
      "execution_count": null,
      "outputs": []
    },
    {
      "cell_type": "code",
      "metadata": {
        "id": "jQEzbGY8d9hB",
        "colab": {
          "base_uri": "https://localhost:8080/"
        },
        "outputId": "c81cb27f-8d3e-4a90-81aa-43573e7b9e51"
      },
      "source": [
        "strategy = tf.distribute.MirroredStrategy()\n",
        "with strategy.scope():\n",
        "  model = Wav2Let()\n",
        "  model.compile(loss=ctc_loss,\n",
        "                optimizer=tf.keras.optimizers.Adam())"
      ],
      "execution_count": null,
      "outputs": [
        {
          "output_type": "stream",
          "text": [
            "WARNING:tensorflow:There are non-GPU devices in `tf.distribute.Strategy`, not using nccl allreduce.\n",
            "INFO:tensorflow:Using MirroredStrategy with devices ('/job:localhost/replica:0/task:0/device:CPU:0',)\n"
          ],
          "name": "stdout"
        }
      ]
    },
    {
      "cell_type": "code",
      "metadata": {
        "id": "HaaAdqCUL71o"
      },
      "source": [
        "wandb.init(project='audio2text')\n",
        "wandb.login()\n",
        "wandb.init()"
      ],
      "execution_count": 17,
      "outputs": []
    },
    {
      "cell_type": "code",
      "metadata": {
        "id": "VuwUQoCKSCcB"
      },
      "source": [
        "# early stopping\n",
        "patience = 2\n"
      ],
      "execution_count": null,
      "outputs": []
    },
    {
      "cell_type": "code",
      "metadata": {
        "id": "7meexIqJSCd-"
      },
      "source": [
        "# learning rate \n",
        "\n",
        "def scheduler(epoch, lr):\n",
        "  if epoch < 10:\n",
        "    return lr\n",
        "  else:\n",
        "    return lr * tf.math.exp(-0.1)\n",
        "\n"
      ],
      "execution_count": null,
      "outputs": []
    },
    {
      "cell_type": "code",
      "metadata": {
        "id": "s0H-S74TSChE"
      },
      "source": [
        "# save at the end of the epoc\n",
        "class ModelSave(tf.keras.callbacks.Callback):\n",
        "  def __init__(self,**kwargs, path = \"\"):\n",
        "    super().__init__(**kwargs)\n",
        "    self.path = path\n",
        "    \n",
        "  def on_epoch_end(self, epoch, logs=None):\n",
        "    self.model.save_weights(path+\"/\"+str(epoch)+\".h5\")\n",
        "    \n",
        "\n"
      ],
      "execution_count": null,
      "outputs": []
    },
    {
      "cell_type": "code",
      "metadata": {
        "id": "MbhpxkPuijmb",
        "colab": {
          "base_uri": "https://localhost:8080/",
          "height": 384
        },
        "outputId": "ce94f398-5f27-40ab-a498-5b73e8160af3"
      },
      "source": [
        "\n",
        "callbacks = [\n",
        "    WandbCallback(),\n",
        "    EarlyStopping(patience= patience ),\n",
        "    LearningRateScheduler(schedule = scheduler),\n",
        "    ModelSave(),  \n",
        "     # pause and resume save\n",
        "]"
      ],
      "execution_count": 16,
      "outputs": [
        {
          "output_type": "error",
          "ename": "Error",
          "evalue": "ignored",
          "traceback": [
            "\u001b[0;31m---------------------------------------------------------------------------\u001b[0m",
            "\u001b[0;31mError\u001b[0m                                     Traceback (most recent call last)",
            "\u001b[0;32m<ipython-input-16-876f1776fd5b>\u001b[0m in \u001b[0;36m<module>\u001b[0;34m()\u001b[0m\n\u001b[1;32m      1\u001b[0m \u001b[0mpatience\u001b[0m \u001b[0;34m=\u001b[0m \u001b[0;36m2\u001b[0m\u001b[0;34m\u001b[0m\u001b[0;34m\u001b[0m\u001b[0m\n\u001b[1;32m      2\u001b[0m callbacks = [\n\u001b[0;32m----> 3\u001b[0;31m     \u001b[0mWandbCallback\u001b[0m\u001b[0;34m(\u001b[0m\u001b[0;34m)\u001b[0m\u001b[0;34m,\u001b[0m\u001b[0;34m\u001b[0m\u001b[0;34m\u001b[0m\u001b[0m\n\u001b[0m\u001b[1;32m      4\u001b[0m     \u001b[0mEarlyStopping\u001b[0m\u001b[0;34m(\u001b[0m\u001b[0mpatience\u001b[0m\u001b[0;34m=\u001b[0m \u001b[0mpatience\u001b[0m \u001b[0;34m)\u001b[0m\u001b[0;34m,\u001b[0m\u001b[0;34m\u001b[0m\u001b[0;34m\u001b[0m\u001b[0m\n\u001b[1;32m      5\u001b[0m     \u001b[0;31m# save each n epoch\u001b[0m\u001b[0;34m\u001b[0m\u001b[0;34m\u001b[0m\u001b[0;34m\u001b[0m\u001b[0m\n",
            "\u001b[0;32m/usr/local/lib/python3.6/dist-packages/wandb/integration/keras/keras.py\u001b[0m in \u001b[0;36m__init__\u001b[0;34m(self, monitor, verbose, mode, save_weights_only, log_weights, log_gradients, save_model, training_data, validation_data, labels, data_type, predictions, generator, input_type, output_type, log_evaluation, validation_steps, class_colors, log_batch_frequency, log_best_prefix, save_graph)\u001b[0m\n\u001b[1;32m    301\u001b[0m     ):\n\u001b[1;32m    302\u001b[0m         \u001b[0;32mif\u001b[0m \u001b[0mwandb\u001b[0m\u001b[0;34m.\u001b[0m\u001b[0mrun\u001b[0m \u001b[0;32mis\u001b[0m \u001b[0;32mNone\u001b[0m\u001b[0;34m:\u001b[0m\u001b[0;34m\u001b[0m\u001b[0;34m\u001b[0m\u001b[0m\n\u001b[0;32m--> 303\u001b[0;31m             \u001b[0;32mraise\u001b[0m \u001b[0mwandb\u001b[0m\u001b[0;34m.\u001b[0m\u001b[0mError\u001b[0m\u001b[0;34m(\u001b[0m\u001b[0;34m\"You must call wandb.init() before WandbCallback()\"\u001b[0m\u001b[0;34m)\u001b[0m\u001b[0;34m\u001b[0m\u001b[0;34m\u001b[0m\u001b[0m\n\u001b[0m\u001b[1;32m    304\u001b[0m \u001b[0;34m\u001b[0m\u001b[0m\n\u001b[1;32m    305\u001b[0m         \u001b[0mself\u001b[0m\u001b[0;34m.\u001b[0m\u001b[0mvalidation_data\u001b[0m \u001b[0;34m=\u001b[0m \u001b[0;32mNone\u001b[0m\u001b[0;34m\u001b[0m\u001b[0;34m\u001b[0m\u001b[0m\n",
            "\u001b[0;31mError\u001b[0m: You must call wandb.init() before WandbCallback()"
          ]
        }
      ]
    },
    {
      "cell_type": "code",
      "metadata": {
        "id": "_7qvxwI9ipuN",
        "colab": {
          "base_uri": "https://localhost:8080/",
          "height": 163
        },
        "outputId": "79861859-2d35-4f45-963f-ee4a53d55894"
      },
      "source": [
        "model.fit(train_dataset, epochs=12, callbacks= callbacks)"
      ],
      "execution_count": null,
      "outputs": [
        {
          "output_type": "error",
          "ename": "NameError",
          "evalue": "ignored",
          "traceback": [
            "\u001b[0;31m---------------------------------------------------------------------------\u001b[0m",
            "\u001b[0;31mNameError\u001b[0m                                 Traceback (most recent call last)",
            "\u001b[0;32m<ipython-input-11-172551e6dff6>\u001b[0m in \u001b[0;36m<module>\u001b[0;34m()\u001b[0m\n\u001b[0;32m----> 1\u001b[0;31m \u001b[0mmodel\u001b[0m\u001b[0;34m.\u001b[0m\u001b[0mfit\u001b[0m\u001b[0;34m(\u001b[0m\u001b[0mtrain_dataset\u001b[0m\u001b[0;34m,\u001b[0m \u001b[0mepochs\u001b[0m\u001b[0;34m=\u001b[0m\u001b[0;36m12\u001b[0m\u001b[0;34m)\u001b[0m\u001b[0;34m\u001b[0m\u001b[0;34m\u001b[0m\u001b[0m\n\u001b[0m",
            "\u001b[0;31mNameError\u001b[0m: name 'train_dataset' is not defined"
          ]
        }
      ]
    },
    {
      "cell_type": "code",
      "metadata": {
        "id": "YVV4q5rNi-S4"
      },
      "source": [
        ""
      ],
      "execution_count": null,
      "outputs": []
    }
  ]
}