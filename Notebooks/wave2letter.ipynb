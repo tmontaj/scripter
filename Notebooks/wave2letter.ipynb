{
  "nbformat": 4,
  "nbformat_minor": 0,
  "metadata": {
    "colab": {
      "name": "wave2letter.ipynb",
      "provenance": [],
      "authorship_tag": "ABX9TyPKcTyMT+qLaC7utL3K5B76",
      "include_colab_link": true
    },
    "kernelspec": {
      "name": "python3",
      "display_name": "Python 3"
    }
  },
  "cells": [
    {
      "cell_type": "markdown",
      "metadata": {
        "id": "view-in-github",
        "colab_type": "text"
      },
      "source": [
        "<a href=\"https://colab.research.google.com/github/tmontaj/scripter/blob/main/Notebooks/wave2letter.ipynb\" target=\"_parent\"><img src=\"https://colab.research.google.com/assets/colab-badge.svg\" alt=\"Open In Colab\"/></a>"
      ]
    },
    {
      "cell_type": "code",
      "metadata": {
        "id": "aOOqydlrsD4F"
      },
      "source": [
        "import tensorflow as tf\n",
        "import numpy as np"
      ],
      "execution_count": 3,
      "outputs": []
    },
    {
      "cell_type": "code",
      "metadata": {
        "id": "3e9e8WcUBVs5"
      },
      "source": [
        "class FirstBlock(tf.keras.layers.Layer):\n",
        "  def __init__(self, filters = 250, kernel_size = 48, strides = 2, **kwargs):\n",
        "    super().__init__(**kwargs)\n",
        "    self.conv = tf.keras.layers.Conv1D(filters, kernel_size, strides, padding='same')\n",
        "    self.batch_norm = tf.keras.layers.BatchNormalization()\n",
        "    self.relu = tf.keras.layers.ReLU()\n",
        "\n",
        "  def call(self, input_):\n",
        "    conv = self.conv(input_)\n",
        "    batch_norm = self.batch_norm(conv)\n",
        "    relu = self.relu(batch_norm)\n",
        "    return relu"
      ],
      "execution_count": 4,
      "outputs": []
    },
    {
      "cell_type": "code",
      "metadata": {
        "id": "_Z5D2Y9uE-CT"
      },
      "source": [
        "class MidBlock(tf.keras.layers.Layer):\n",
        "  def __init__(self, filters = 250, kernel_size = 7, **kwargs):\n",
        "    super().__init__(**kwargs)\n",
        "    self.conv = tf.keras.layers.Conv1D(filters, kernel_size, padding='same')\n",
        "    self.batch_norm = tf.keras.layers.BatchNormalization()\n",
        "    self.relu = tf.keras.layers.ReLU()\n",
        "\n",
        "  def call(self, input_):  \n",
        "    conv = self.conv(input_)\n",
        "    batch_norm = self.batch_norm(conv)\n",
        "    relu = self.relu(batch_norm)\n",
        "    return relu"
      ],
      "execution_count": 5,
      "outputs": []
    },
    {
      "cell_type": "code",
      "metadata": {
        "id": "ZY3jtxTNFWyi"
      },
      "source": [
        "class LastBlock(tf.keras.layers.Layer):\n",
        "  def __init__(self, output_size = 40, **kwargs):\n",
        "    super().__init__(**kwargs)\n",
        "    self.conv1 = tf.keras.layers.Conv1D(filters = 2000, kernel_size = 32, padding='same')\n",
        "    self.batch_norm = tf.keras.layers.BatchNormalization()\n",
        "    self.relu = tf.keras.layers.ReLU()\n",
        "    self.conv2 = tf.keras.layers.Conv1D(filters = 2000, kernel_size = 1, padding='same')\n",
        "    self.conv3 = tf.keras.layers.Conv1D(filters = output_size, kernel_size = 1, padding='same')\n",
        "\n",
        "  def call(self, input_):  \n",
        "    conv1 = self.conv1(input_)\n",
        "    batch_norm1 = self.batch_norm(conv1)\n",
        "    relu1 = self.relu(batch_norm1)\n",
        "\n",
        "    conv2 = self.conv1(relu1)\n",
        "    batch_norm2 = self.batch_norm(conv2)\n",
        "    relu2 = self.relu(batch_norm2)\n",
        "\n",
        "    conv3 = self.conv1(relu2)\n",
        "    batch_norm3 = self.batch_norm(conv3)\n",
        "    relu3 = self.relu(batch_norm3)\n",
        "    return relu3"
      ],
      "execution_count": 7,
      "outputs": []
    },
    {
      "cell_type": "code",
      "metadata": {
        "id": "imxqz_6lG9ZC"
      },
      "source": [
        "class Wav2Let(tf.keras.Model):\n",
        "  def __init__(self, **kwargs):\n",
        "    super().__init__(**kwargs)\n",
        "    first_block = FirstBlock()\n",
        "    mid_block1 = MidBlock()\n",
        "    mid_block2 = MidBlock()\n",
        "    mid_block3 = MidBlock()\n",
        "    mid_block4 = MidBlock()\n",
        "    mid_block5 = MidBlock()\n",
        "    mid_block6 = MidBlock()\n",
        "    mid_block7 = MidBlock()\n",
        "    last_block = LastBlock()\n",
        "        \n",
        "  def call(self, input_):\n",
        "    first_block = self.first_block(input_)\n",
        "    mid_block1 = self.mid_block1(first_block)\n",
        "    mid_block2 = self.mid_block2(mid_block1)\n",
        "    mid_block3 = self.mid_block3(mid_block2)\n",
        "    mid_block4 = self.mid_block4(mid_block3)\n",
        "    mid_block5 = self.mid_block5(mid_block4)\n",
        "    mid_block6 = self.mid_block6(mid_block5)\n",
        "    mid_block7 = self.mid_block7(mid_block6)\n",
        "    last_block = self.last_block(mid_block7)\n",
        "    return last_block \n"
      ],
      "execution_count": 8,
      "outputs": []
    },
    {
      "cell_type": "code",
      "metadata": {
        "id": "NUzw2Te1QgHk"
      },
      "source": [
        "model = Wav2Let()"
      ],
      "execution_count": 9,
      "outputs": []
    }
  ]
}